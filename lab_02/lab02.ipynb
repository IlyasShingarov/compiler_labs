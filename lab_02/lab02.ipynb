{
 "cells": [
  {
   "cell_type": "markdown",
   "metadata": {},
   "source": [
    "Постройте программу, которая в качестве входа принимает произвольную КС-грамматику $G = (N, \\sum, P, S)$ без\n",
    "$\\epsilon$ -правил и преобразует ее в эквивалентную КС-грамматику $G' = (N, \\sum, P', S)$ без $\\epsilon$ -правил и без цепных правил.\n"
   ]
  },
  {
   "cell_type": "code",
   "execution_count": 6,
   "metadata": {},
   "outputs": [],
   "source": [
    "def debug_print(func):\n",
    "    def wrapper(*args, **kwargs):\n",
    "        print(' BEGIN DEBUG PRINT '.center(64, '='))\n",
    "        res = func(*args, **kwargs)\n",
    "        print(' END DEBUG PRINT '.center(64, '='))\n",
    "        return res\n",
    "    return wrapper"
   ]
  },
  {
   "cell_type": "code",
   "execution_count": 1,
   "metadata": {},
   "outputs": [],
   "source": [
    "from functools import reduce\n",
    "\n",
    "class GrammarRule:\n",
    "    def __init__(self, l: str, r:list[str]) -> None:\n",
    "        self.lhs = l\n",
    "        self.rhs = r.copy()\n",
    "    \n",
    "    def __repr__(self) -> str:\n",
    "        return f'{self.lhs} -> {self.rhs}'\n",
    "    \n",
    "    def __str__(self) -> str:\n",
    "        return f'{self.lhs} -> {self.rhs}'"
   ]
  },
  {
   "cell_type": "code",
   "execution_count": 2,
   "metadata": {},
   "outputs": [],
   "source": [
    "class Grammar:\n",
    "    nonterminal = []\n",
    "    terminal = []\n",
    "    rules = []\n",
    "    axiom = ''\n",
    "\n",
    "    def __init__(self, nonterm: list[str], term: list[str], rules: list[GrammarRule], axiom: str) -> None:\n",
    "        self.nonterminal = nonterm\n",
    "        self.terminal = term\n",
    "        self.rules = rules\n",
    "        self.axiom = axiom\n",
    "    \n",
    "    def print(self, std=True, md=True):\n",
    "        output = \"\"\n",
    "        output += \"[{:}] [{:}] {:}\\n\".format(\",\".join(sorted(self.nonterminal)), \",\".join(sorted(self.terminal)), self.axiom) \n",
    "\n",
    "        for nt in sorted(self.nonterminal):\n",
    "            rules = list(filter(lambda x: x.lhs == nt, self.rules))\n",
    "            if not len(rules):\n",
    "                continue\n",
    "            \n",
    "            output += '\\n' + ( nt + \" -> \" + \" | \".join(sorted(map(lambda x: \" \".join(x.rhs) if len(x.lhs) else r'\\epsilon', rules))))\n",
    "        if std:\n",
    "            print(output)\n",
    "        \n",
    "        if md:\n",
    "            output = \"\\n\\n\".join(map(lambda x: '$' + x.replace('->', '\\\\rightarrow') + '$' if len(x) else '', output.split('\\n')))\n",
    "\n",
    "        return output\n",
    "    \n",
    "    def show(self):\n",
    "        import IPython\n",
    "        return IPython.display.Markdown(self.print(std=False))\n",
    "    \n",
    "    @staticmethod\n",
    "    def from_text(text):\n",
    "        nt, t, a = text.split('\\n')[0].split(' ')\n",
    "        nt = nt[1:-1].split(',')\n",
    "        t = t[1:-1].split(',')\n",
    "        \n",
    "        rules = []\n",
    "\n",
    "        for string in text.split('\\n')[1:]:\n",
    "            if not len(string):\n",
    "                continue\n",
    "            \n",
    "            left, right = string.split(' -> ')\n",
    "\n",
    "            for rule in right.split(' | '):\n",
    "                data = rule.split(' ')\n",
    "                if data[0] == r'\\epsilon':\n",
    "                    data = []\n",
    "                rules.append(\n",
    "                    GrammarRule(left, data)\n",
    "                )\n",
    "        return Grammar(nt, t, rules, a)"
   ]
  },
  {
   "cell_type": "code",
   "execution_count": 3,
   "metadata": {},
   "outputs": [],
   "source": [
    "# grammar = Grammar(\n",
    "#     nonterm=['E', 'T', 'F', 'G', 'R', 'U'],\n",
    "#     term=['+', '-', '(', ')', 'a'],\n",
    "#     rules=[\n",
    "#         GrammarRule('E', ['E', '+', 'T']),\n",
    "#         GrammarRule('E', ['T']),\n",
    "#         GrammarRule('T', ['T', '*', 'F']),\n",
    "#         GrammarRule('T', ['F']),\n",
    "#         GrammarRule('F', ['a']),\n",
    "#         GrammarRule('F', ['G']),\n",
    "#         GrammarRule('G', ['F']),\n",
    "#         GrammarRule('G', ['G', '+', 'R']),\n",
    "#         GrammarRule('G', []),\n",
    "#         GrammarRule('F', ['(', 'E', ')']),\n",
    "#         GrammarRule('U', ['F']),\n",
    "#     ],\n",
    "#     axiom='E'\n",
    "# )\n",
    "\n",
    "grammar = Grammar(\n",
    "    nonterm=['E', 'T', 'F'],\n",
    "    term=['+', '-', '(', ')', 'a'],\n",
    "    rules=[\n",
    "        GrammarRule('E', ['E', '+', 'T']),\n",
    "        GrammarRule('E', ['T']),\n",
    "        GrammarRule('T', ['T', '*', 'F']),\n",
    "        GrammarRule('T', ['F']),\n",
    "        GrammarRule('F', ['a']),\n",
    "        GrammarRule('F', ['(', 'E', ')']),\n",
    "    ],\n",
    "    axiom='E'\n",
    ")"
   ]
  },
  {
   "cell_type": "code",
   "execution_count": 4,
   "metadata": {},
   "outputs": [
    {
     "data": {
      "text/markdown": [
       "$[E,F,T] [(,),+,-,a] E$\n",
       "\n",
       "\n",
       "\n",
       "$E \\rightarrow E + T | T$\n",
       "\n",
       "$F \\rightarrow ( E ) | a$\n",
       "\n",
       "$T \\rightarrow F | T * F$"
      ],
      "text/plain": [
       "<IPython.core.display.Markdown object>"
      ]
     },
     "execution_count": 4,
     "metadata": {},
     "output_type": "execute_result"
    }
   ],
   "source": [
    "grammar.show()"
   ]
  },
  {
   "cell_type": "code",
   "execution_count": 7,
   "metadata": {},
   "outputs": [
    {
     "data": {
      "text/markdown": [
       "$[E,F,T] [(,),+,-,a] E$\n",
       "\n",
       "\n",
       "\n",
       "$E \\rightarrow E + T | T$\n",
       "\n",
       "$F \\rightarrow ( E ) | a$\n",
       "\n",
       "$T \\rightarrow F | T * F$"
      ],
      "text/plain": [
       "<IPython.core.display.Markdown object>"
      ]
     },
     "metadata": {},
     "output_type": "display_data"
    },
    {
     "name": "stdout",
     "output_type": "stream",
     "text": [
      "====================== BEGIN DEBUG PRINT =======================\n",
      "1. Nonterminals:  ['E', 'T', 'F']\n",
      "5. Переходим к устранению непосредственной левой рекурсии по E\n",
      "Правило E -> ['E', '+', 'T'] леворекурсивно\n",
      "Заменяем правило E -> ['E', '+', 'T']\n",
      "Вводим новые правила:\n",
      "E' -> ['+', 'T']\n",
      "E' -> ['+', 'T', \"E'\"]\n",
      "\n",
      "Заменяем правило E -> ['T']\n",
      "Вводим новые правила:\n",
      "E -> ['T']\n",
      "E -> ['T', \"E'\"]\n",
      "\n",
      "2. Ищем продукции: T ---> E\n",
      "5. Переходим к устранению непосредственной левой рекурсии по T\n",
      "Правило T -> ['T', '*', 'F'] леворекурсивно\n",
      "Заменяем правило T -> ['T', '*', 'F']\n",
      "Вводим новые правила:\n",
      "T' -> ['*', 'F']\n",
      "T' -> ['*', 'F', \"T'\"]\n",
      "\n",
      "Заменяем правило T -> ['F']\n",
      "Вводим новые правила:\n",
      "T -> ['F']\n",
      "T -> ['F', \"T'\"]\n",
      "\n",
      "2. Ищем продукции: F ---> E\n",
      "2. Ищем продукции: F ---> T\n",
      "5. Переходим к устранению непосредственной левой рекурсии по F\n",
      "======================= END DEBUG PRINT ========================\n"
     ]
    },
    {
     "data": {
      "text/markdown": [
       "$[E,E',F,T,T'] [(,),+,-,a] E$\n",
       "\n",
       "\n",
       "\n",
       "$E \\rightarrow T | T E'$\n",
       "\n",
       "$E' \\rightarrow + T | + T E'$\n",
       "\n",
       "$F \\rightarrow ( E ) | a$\n",
       "\n",
       "$T \\rightarrow F | F T'$\n",
       "\n",
       "$T' \\rightarrow * F | * F T'$"
      ],
      "text/plain": [
       "<IPython.core.display.Markdown object>"
      ]
     },
     "execution_count": 7,
     "metadata": {},
     "output_type": "execute_result"
    }
   ],
   "source": [
    "@debug_print\n",
    "def remove_left_recursion(g: Grammar):\n",
    "    new_rules: list[GrammarRule] = g.rules.copy()\n",
    "\n",
    "    nonterminals = g.nonterminal.copy()\n",
    "    # Расположили нетерминалы в некотором порядке\n",
    "    print('1. Nonterminals: ', g.nonterminal)\n",
    "    nnt = ['E', 'T', 'F']\n",
    "    # for i, i_nt in enumerate(g.nonterminal):\n",
    "    for i, i_nt in enumerate(nnt):\n",
    "        # for j_nt in g.nonterminal[:i]:\n",
    "        for j_nt in nnt[:i]:\n",
    "            # Отобрать продукции вида A_i --> A_j\n",
    "            rules = [\n",
    "                rule for rule in new_rules if rule.lhs == i_nt and len(rule.rhs) and rule.rhs[0] == j_nt\n",
    "            ]\n",
    "            print(f'2. Ищем продукции: {i_nt} ---> {j_nt}')\n",
    "            if rules: print(f'3. Замена продукции: {rules[0]}')\n",
    "            for rule in rules:\n",
    "                new_rules.remove(rule)\n",
    "                m_rules = [rule for rule in new_rules if rule.lhs == j_nt]\n",
    "                for m_rule in m_rules:\n",
    "                    new_rule = GrammarRule(i_nt, m_rule.rhs + rule.rhs[1:])\n",
    "                    print(f'4. Заменяем правилом: {new_rule}')\n",
    "                    new_rules.append(new_rule)\n",
    "        print(f'5. Переходим к устранению непосредственной левой рекурсии по {i_nt}')\n",
    "        # Отбираем правила для выбранного нетерминала\n",
    "        rules = [rule for rule in new_rules if rule.lhs == i_nt] \n",
    "        need_modify = False\n",
    "        for rule in rules:\n",
    "            # Если правило непустое и леворекурсивно\n",
    "            if len(rule.rhs) and rule.rhs[0] == i_nt:\n",
    "                need_modify = True\n",
    "                print(f'Правило {rule} леворекурсивно')\n",
    "                break\n",
    "\n",
    "        if need_modify:\n",
    "            # Вводим новый нетерминал\n",
    "            new_nt = i_nt + \"'\"\n",
    "            nonterminals += [new_nt]\n",
    "\n",
    "            for rule in rules:\n",
    "                new_rules.remove(rule)\n",
    "                print(f'Заменяем правило {rule}')\n",
    "                if len(rule.rhs) and rule.rhs[0] == i_nt:\n",
    "                    new_rule_1 = GrammarRule(new_nt, rule.rhs[1:]) \n",
    "                    new_rule_2 = GrammarRule(new_nt, rule.rhs[1:] + [new_nt])\n",
    "                    new_rules += [new_rule_1, new_rule_2]\n",
    "                    print(f'Вводим новые правила:')\n",
    "                    print(new_rule_1)\n",
    "                    print(new_rule_2)\n",
    "                    print()\n",
    "                else:\n",
    "                    new_rule_1 = GrammarRule(rule.lhs, rule.rhs.copy()) \n",
    "                    new_rule_2 = GrammarRule(rule.lhs, rule.rhs + [new_nt])\n",
    "                    new_rules += [new_rule_1, new_rule_2]\n",
    "                    print(f'Вводим новые правила:')\n",
    "                    print(new_rule_1)\n",
    "                    print(new_rule_2)\n",
    "                    print()\n",
    "    return Grammar(nonterminals, g.terminal.copy(), new_rules, g.axiom)\n",
    "\n",
    "display(grammar.show())\n",
    "nlr = remove_left_recursion(grammar)\n",
    "nlr.show()"
   ]
  },
  {
   "cell_type": "code",
   "execution_count": 99,
   "metadata": {},
   "outputs": [
    {
     "data": {
      "text/markdown": [
       "$[E,F,T] [(,),+,-,a] E$\n",
       "\n",
       "\n",
       "\n",
       "$E \\rightarrow E + T | T$\n",
       "\n",
       "$F \\rightarrow ( E ) | a$\n",
       "\n",
       "$T \\rightarrow F | T * F$"
      ],
      "text/plain": [
       "<IPython.core.display.Markdown object>"
      ]
     },
     "metadata": {},
     "output_type": "display_data"
    },
    {
     "data": {
      "text/markdown": [
       "$[E,E',F,T,T'] [(,),+,-,a] E$\n",
       "\n",
       "\n",
       "\n",
       "$E \\rightarrow T | T E'$\n",
       "\n",
       "$E' \\rightarrow + T | + T E'$\n",
       "\n",
       "$F \\rightarrow ( E ) | a$\n",
       "\n",
       "$T \\rightarrow F | F T'$\n",
       "\n",
       "$T' \\rightarrow * F | * F T'$"
      ],
      "text/plain": [
       "<IPython.core.display.Markdown object>"
      ]
     },
     "metadata": {},
     "output_type": "display_data"
    }
   ],
   "source": [
    "display(grammar.show())\n",
    "display(nlr.show())"
   ]
  },
  {
   "cell_type": "code",
   "execution_count": null,
   "metadata": {},
   "outputs": [],
   "source": [
    "grammar = Grammar(\n",
    "    nonterm=['E', 'T', 'F'],\n",
    "    term=['+', '-', '(', ')', 'a'],\n",
    "    rules=[\n",
    "        GrammarRule('E', ['E', '+', 'T']),\n",
    "        GrammarRule('E', ['T']),\n",
    "        GrammarRule('T', ['T', '*', 'F']),\n",
    "        GrammarRule('T', ['F']),\n",
    "        GrammarRule('F', ['a']),\n",
    "        GrammarRule('F', ['(', 'E', ')']),\n",
    "    ],\n",
    "    axiom='E'\n",
    ")"
   ]
  },
  {
   "cell_type": "code",
   "execution_count": 106,
   "metadata": {},
   "outputs": [
    {
     "data": {
      "text/markdown": [
       "$[E,F,T] [(,),+,-,a] E$\n",
       "\n",
       "\n",
       "\n",
       "$E \\rightarrow ( E ) | E + T | T * F | a$\n",
       "\n",
       "$F \\rightarrow ( E ) | a$\n",
       "\n",
       "$T \\rightarrow ( E ) | T * F | a$"
      ],
      "text/plain": [
       "<IPython.core.display.Markdown object>"
      ]
     },
     "execution_count": 106,
     "metadata": {},
     "output_type": "execute_result"
    }
   ],
   "source": [
    "def remove_chain_rules(grammar: Grammar) -> Grammar:\n",
    "    # Шаг 1: Построение N_A для каждого нетерминала A\n",
    "    N = {nt: set([nt]) for nt in grammar.nonterminal}  # Начальное множество N_A={A}\n",
    "    changes = True\n",
    "    while changes:  # Повторяем до тех пор, пока есть изменения\n",
    "        changes = False\n",
    "        for A in grammar.nonterminal:\n",
    "            current_N = N[A].copy()  # Tекущее множество N_i-1\n",
    "            for B in current_N:\n",
    "                for rule in grammar.rules:\n",
    "                    # Если правило имеет вид B -> C и C - нетерминал, то добавляем C в N_A\n",
    "                    if rule.lhs == B and len(rule.rhs) == 1 and rule.rhs[0] in grammar.nonterminal:\n",
    "                        if rule.rhs[0] not in N[A]:\n",
    "                            N[A].add(rule.rhs[0])\n",
    "                            changes = True\n",
    "\n",
    "    # Шаг 2: Построение нового набора правил P'\n",
    "    new_rules = []\n",
    "    for A in grammar.nonterminal:\n",
    "        for rule in grammar.rules:\n",
    "            # Добавляем правило A -> α, если оно не является цепным правилом\n",
    "            if len(rule.rhs) != 1 or rule.rhs[0] not in grammar.nonterminal:\n",
    "                # Если B входит в N_A, добавляем A -> α для каждого такого B\n",
    "                if rule.lhs in N[A]:\n",
    "                    new_rules.append(GrammarRule(A, rule.rhs.copy()))\n",
    "\n",
    "    # Шаг 3: Создаем новую грамматику без цепных правил\n",
    "    return Grammar(grammar.nonterminal, grammar.terminal, new_rules, grammar.axiom)\n",
    "\n",
    "# Теперь можно использовать функцию для создания новой грамматики без цепных правил\n",
    "new_grammar = remove_chain_rules(grammar)\n",
    "new_grammar.show()"
   ]
  },
  {
   "cell_type": "code",
   "execution_count": 9,
   "metadata": {},
   "outputs": [
    {
     "name": "stdout",
     "output_type": "stream",
     "text": [
      "Начальные множества N_A:\n",
      "N_E: {'E'}\n",
      "N_T: {'T'}\n",
      "N_F: {'F'}\n",
      "Добавляем T в N_E из правила E -> T\n",
      "Добавляем F в N_T из правила T -> F\n",
      "Добавляем F в N_E из правила T -> F\n",
      "Итоговые множества N_A после всех добавлений:\n",
      "N_E: {'T', 'F', 'E'}\n",
      "N_T: {'T', 'F'}\n",
      "N_F: {'F'}\n",
      "Новый набор правил P':\n",
      "Добавляем правило E -> E + T потому что E ∈ N_E\n",
      "Добавляем правило E -> T * F потому что T ∈ N_E\n",
      "Добавляем правило E -> a потому что F ∈ N_E\n",
      "Добавляем правило E -> ( E ) потому что F ∈ N_E\n",
      "Добавляем правило T -> T * F потому что T ∈ N_T\n",
      "Добавляем правило T -> a потому что F ∈ N_T\n",
      "Добавляем правило T -> ( E ) потому что F ∈ N_T\n",
      "Добавляем правило F -> a потому что F ∈ N_F\n",
      "Добавляем правило F -> ( E ) потому что F ∈ N_F\n"
     ]
    },
    {
     "data": {
      "text/markdown": [
       "$[E,F,T] [(,),+,-,a] E$\n",
       "\n",
       "\n",
       "\n",
       "$E \\rightarrow ( E ) | E + T | T * F | a$\n",
       "\n",
       "$F \\rightarrow ( E ) | a$\n",
       "\n",
       "$T \\rightarrow ( E ) | T * F | a$"
      ],
      "text/plain": [
       "<IPython.core.display.Markdown object>"
      ]
     },
     "execution_count": 9,
     "metadata": {},
     "output_type": "execute_result"
    }
   ],
   "source": [
    "def remove_chain_rules(grammar: Grammar) -> Grammar:\n",
    "    # Шаг 1: Построение N_A для каждого нетерминала A\n",
    "    N = {nt: set([nt]) for nt in grammar.nonterminal}  # Начальное множество N_A={A}\n",
    "    print(\"Начальные множества N_A:\")\n",
    "    for A in N:\n",
    "        print(f\"N_{A}: {N[A]}\")\n",
    "    \n",
    "    changes = True\n",
    "    while changes:  # Повторяем до тех пор, пока есть изменения\n",
    "        changes = False\n",
    "        for A in grammar.nonterminal:\n",
    "            current_N = N[A].copy()  # Tекущее множество N_i-1\n",
    "            for B in current_N:\n",
    "                for rule in grammar.rules:\n",
    "                    # Если правило имеет вид B -> C и C - нетерминал, то добавляем C в N_A\n",
    "                    if rule.lhs == B and len(rule.rhs) == 1 and rule.rhs[0] in grammar.nonterminal:\n",
    "                        if rule.rhs[0] not in N[A]:\n",
    "                            N[A].add(rule.rhs[0])\n",
    "                            changes = True\n",
    "                            print(f\"Добавляем {rule.rhs[0]} в N_{A} из правила {B} -> {rule.rhs[0]}\")\n",
    "    \n",
    "    print(\"Итоговые множества N_A после всех добавлений:\")\n",
    "    for A in N:\n",
    "        print(f\"N_{A}: {N[A]}\")\n",
    "\n",
    "    # Шаг 2: Построение нового набора правил P'\n",
    "    new_rules = []\n",
    "    print(\"Новый набор правил P':\")\n",
    "    for A in grammar.nonterminal:\n",
    "        for rule in grammar.rules:\n",
    "            # Добавляем правило A -> α, если оно не является цепным правилом\n",
    "            if len(rule.rhs) != 1 or rule.rhs[0] not in grammar.nonterminal:\n",
    "                # Если B входит в N_A, добавляем A -> α для каждого такого B\n",
    "                if rule.lhs in N[A]:\n",
    "                    new_rules.append(GrammarRule(A, rule.rhs.copy()))\n",
    "                    print(f\"Добавляем правило {A} -> {' '.join(rule.rhs)} потому что {rule.lhs} ∈ N_{A}\")\n",
    "\n",
    "    # Шаг 3: Создаем новую грамматику без цепных правил\n",
    "    return Grammar(grammar.nonterminal, grammar.terminal, new_rules, grammar.axiom)\n",
    "\n",
    "# Теперь можно использовать функцию для создания новой грамматики без цепных правил\n",
    "new_grammar = remove_chain_rules(grammar)\n",
    "new_grammar.show()"
   ]
  },
  {
   "cell_type": "code",
   "execution_count": null,
   "metadata": {},
   "outputs": [],
   "source": []
  }
 ],
 "metadata": {
  "kernelspec": {
   "display_name": "Python 3",
   "language": "python",
   "name": "python3"
  },
  "language_info": {
   "codemirror_mode": {
    "name": "ipython",
    "version": 3
   },
   "file_extension": ".py",
   "mimetype": "text/x-python",
   "name": "python",
   "nbconvert_exporter": "python",
   "pygments_lexer": "ipython3",
   "version": "3.12.2"
  }
 },
 "nbformat": 4,
 "nbformat_minor": 2
}
